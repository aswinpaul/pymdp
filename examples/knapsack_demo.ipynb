{
 "cells": [
  {
   "cell_type": "markdown",
   "metadata": {},
   "source": [
    "# Demo: Knapsack Problem\n",
    "\n",
    "In this notebook, we demonstrate how to solve the knapsack problem, a classic Operations Research problem. In this problem, we have a knapsack with fixed weight capacity and a set of items each associated with a weight and a value. We want fit items into the knapsack in a way such as the total value of all fitted items is as high as possible, however, the sum of item weights cannot exceed the knapsack weight capacity. \n",
    "\n",
    "While is problem is traditionally solved with linear programming, we can convert it into a contextual bandit problem (a simplified 1-stage Markov decision problem) and solve it using pymdp.\n",
    "\n",
    "Let us define our actions `a_i` as whether to include an item or not for each item i. The state `s_i` of the system is defined as whether an item is included or not, i.e., copying the action variables over to the corresponding state variables. We also need another state variable `z` which represents whether the knapsack capacity is exceeded. If an item is included, i.e., `s_i = 1`, we get a reward `r_i`, otherwise, we get a reward of 0 when `s_i = 0`. We can thus define our preference of including valueable items to be proportional to the expnenital of reward: `C[s_i] = softmax([0, r_i])`. Our preference on the capacity constraint variable `z` is to never violate it, i.e., `C[z] = [1, 0]`. Since the system is fully observable, we will set all observation matrices to diagonal."
   ]
  },
  {
   "cell_type": "code",
   "execution_count": 25,
   "metadata": {},
   "outputs": [],
   "source": [
    "import numpy as np\n",
    "from jax import numpy as jnp\n",
    "from jax import tree_util as jtu\n",
    "import jax.nn as nn\n",
    "\n",
    "from pymdp.jax.agent import Agent\n",
    "from pymdp.jax import distribution"
   ]
  },
  {
   "cell_type": "markdown",
   "metadata": {},
   "source": [
    "## Specify model structure"
   ]
  },
  {
   "cell_type": "code",
   "execution_count": 28,
   "metadata": {},
   "outputs": [],
   "source": [
    "# knapsack problem setup\n",
    "num_items = 5  # agents\n",
    "max_capacity = 20\n",
    "item_weights = np.random.uniform(2, 8, size=(num_items,))\n",
    "rewards = np.random.uniform(0, 1, size=(num_items,))\n",
    "\n",
    "state_config = {\n",
    "    f\"s_{i}\": {\"elements\": [\"not enclude\", \"include\"], \"depends_on\": [f\"s_{i}\"], \"controlled_by\": [f\"a_{i}\"]} \n",
    "    for i in range(num_items)\n",
    "}\n",
    "state_config[\"z\"] = {\n",
    "    \"elements\": [\"not violated\", \"violated\"], \"depends_on\": [\"z\"], \"controlled_by\": [f\"a_{i}\" for i in range(num_items)]\n",
    "} \n",
    "\n",
    "obs_config = {\n",
    "    k: {\"elements\": v[\"elements\"], \"depends_on\": [k]} for k, v in state_config.items()\n",
    "}\n",
    "\n",
    "act_config = {\n",
    "    f\"a_{i}\": {\"elements\": [\"not enclude\", \"include\"]} \n",
    "    for i in range(num_items)\n",
    "}\n",
    "\n",
    "model = {\n",
    "    \"observations\": obs_config,\n",
    "    \"controls\": act_config,\n",
    "    \"states\": state_config,\n",
    "}"
   ]
  },
  {
   "cell_type": "markdown",
   "metadata": {},
   "source": [
    "## Specify model parameters"
   ]
  },
  {
   "cell_type": "code",
   "execution_count": 10,
   "metadata": {},
   "outputs": [
    {
     "name": "stdout",
     "output_type": "stream",
     "text": [
      "A shapes [(2, 2), (2, 2), (2, 2), (2, 2), (2, 2), (2, 2)]\n",
      "B shapes [(2, 2, 2), (2, 2, 2), (2, 2, 2), (2, 2, 2), (2, 2, 2), (2, 2, 2, 2, 2, 2, 2)]\n"
     ]
    }
   ],
   "source": [
    "As, Bs = distribution.compile_model(model)\n",
    "\n",
    "print(\"A shapes\", [a.data.shape for a in As])\n",
    "print(\"B shapes\", [a.data.shape for a in Bs])"
   ]
  },
  {
   "cell_type": "code",
   "execution_count": 117,
   "metadata": {},
   "outputs": [
    {
     "name": "stdout",
     "output_type": "stream",
     "text": [
      "A shapes [(2, 2), (2, 2), (2, 2), (2, 2), (2, 2), (2, 2)]\n",
      "B shapes [(2, 2, 2), (2, 2, 2), (2, 2, 2), (2, 2, 2), (2, 2, 2), (2, 2, 2, 2, 2, 2, 2)]\n",
      "A normalized [True, True, True, True, True, True]\n",
      "B normalized [True, True, True, True, True, True]\n",
      "C normalized [True, True, True, True, True, True]\n"
     ]
    }
   ],
   "source": [
    "def create_identity_transition_factor(mat):\n",
    "    for i in range(mat.shape[1]):\n",
    "        mat[:, i] = np.eye(len(mat))\n",
    "    return mat\n",
    "\n",
    "def create_constraint_factor_z_greater_than(act_dim, maximum, num_items, weights):\n",
    "    # Create an array of shape (2, act_dim, act_dim, ..., act_dim)\n",
    "    tensor_shape = (2,) + (act_dim,) * num_items\n",
    "    \n",
    "    # Create an array with indices from 0 to act_dim - 1 along each dimension\n",
    "    indices = np.indices(tensor_shape[1:])\n",
    "\n",
    "    # Reshape weights to fit indices shape\n",
    "    weights_reshaped = np.array(weights).reshape((-1,) + (1,) * (indices.ndim - 1))\n",
    "    # Multiply weights with matrix that conforms to constraint\n",
    "    result = np.array(indices == 1) * weights_reshaped\n",
    "\n",
    "    # Calculate the total for each combination of actions\n",
    "    total = np.sum(result, axis=0)\n",
    "    \n",
    "    # Create the tensor based on the total hours condition\n",
    "    tensor = np.where(total > maximum, 1, 0)\n",
    "\n",
    "    # Stack the tensor along the first axis to create the final tensor\n",
    "    tensor = np.stack((1 - tensor, tensor), axis=0)\n",
    "\n",
    "    # Stack to make a copy for self state\n",
    "    # tensor = np.expand_dims(tensor, axis=1)\n",
    "    tensor = np.stack([tensor, tensor], axis=1)\n",
    "    return tensor\n",
    "\n",
    "# update A tensor\n",
    "for i in range(len(As)):\n",
    "    As[i].data = np.eye(len(As[i].data))\n",
    "\n",
    "# update B tensors\n",
    "for i in range(num_items):\n",
    "    Bs[i].data = create_identity_transition_factor(Bs[i].data)\n",
    "\n",
    "Bs[-1].data = create_constraint_factor_z_greater_than(2, max_capacity, num_items, item_weights)\n",
    "\n",
    "# create C tensors\n",
    "preferences = nn.softmax(np.stack([np.zeros_like(rewards), rewards], axis=-1), axis=-1)\n",
    "Cs = [None for _ in range(len(As))]\n",
    "for i in range(len(As)):\n",
    "    Cs[i] = preferences[i]\n",
    "    \n",
    "Cs[-1] = np.array([1., 0]) # capacity constraint cannot be violated\n",
    "\n",
    "print(\"A shapes\", [a.data.shape for a in As])\n",
    "print(\"B shapes\", [a.data.shape for a in Bs])\n",
    "\n",
    "print(\"A normalized\", [np.isclose(a.data.sum(0), 1.).all() for a in As])\n",
    "print(\"B normalized\", [np.isclose(a.data.sum(0), 1.).all() for a in As])\n",
    "print(\"C normalized\", [np.isclose(a.sum(0), 1.).all() for a in Cs])"
   ]
  },
  {
   "cell_type": "markdown",
   "metadata": {},
   "source": [
    "## Run agent"
   ]
  },
  {
   "cell_type": "code",
   "execution_count": 123,
   "metadata": {},
   "outputs": [],
   "source": [
    "B_action_dependencies = [\n",
    "    [list(model[\"controls\"].keys()).index(i) for i in s[\"controlled_by\"]] \n",
    "    for s in model[\"states\"].values()\n",
    "]\n",
    "num_controls = [len(c[\"elements\"]) for c in model[\"controls\"].values()]\n",
    "\n",
    "agent = Agent(\n",
    "    As, Bs, Cs,\n",
    "    B_action_dependencies=B_action_dependencies,\n",
    "    num_controls=num_controls,\n",
    ")"
   ]
  },
  {
   "cell_type": "code",
   "execution_count": 124,
   "metadata": {},
   "outputs": [],
   "source": [
    "qs = jtu.tree_map(lambda x: jnp.expand_dims(x, axis=0), agent.D)\n",
    "q_pi, G = agent.infer_policies(qs)\n",
    "action = agent.sample_action(q_pi)\n",
    "action_multi = agent.decode_multi_actions(action)"
   ]
  },
  {
   "cell_type": "code",
   "execution_count": 162,
   "metadata": {},
   "outputs": [
    {
     "name": "stdout",
     "output_type": "stream",
     "text": [
      "best action [[1 1 1 1 1 0]]\n",
      "best action multi [[0 0 0 0 0]]\n",
      "item weights\n",
      "[4.29400262 6.53872627 7.64026691 3.47688306 4.93437645]\n",
      "item rewards\n",
      "[0.17008879 0.85895517 0.66385495 0.90542861 0.28839602]\n"
     ]
    }
   ],
   "source": [
    "print(\"best action\", action)\n",
    "print(\"best action multi\", action_multi)\n",
    "print(\"item weights\")\n",
    "print(item_weights)\n",
    "print(\"item rewards\")\n",
    "print(rewards)"
   ]
  },
  {
   "cell_type": "code",
   "execution_count": 166,
   "metadata": {},
   "outputs": [
    {
     "name": "stdout",
     "output_type": "stream",
     "text": [
      "action [ 1  1  1  1  1 28]\n",
      "action multi [1, 1, 1, 0, 0]\n",
      "4.1886554\n",
      "action [ 1  1  1  1  1 27]\n",
      "action multi [1, 1, 0, 1, 1]\n",
      "4.1886554\n",
      "action [ 1  1  1  1  1 26]\n",
      "action multi [1, 1, 0, 1, 0]\n",
      "4.1886554\n",
      "action [ 1  1  1  1  1 25]\n",
      "action multi [1, 1, 0, 0, 1]\n",
      "4.1886554\n",
      "action [ 1  1  1  1  1 24]\n",
      "action multi [1, 1, 0, 0, 0]\n",
      "4.1886554\n",
      "action [ 1  1  1  1  1 22]\n",
      "action multi [1, 0, 1, 1, 0]\n",
      "4.1886554\n",
      "action [ 1  1  1  1  1 21]\n",
      "action multi [1, 0, 1, 0, 1]\n",
      "4.1886554\n",
      "action [ 1  1  1  1  1 20]\n",
      "action multi [1, 0, 1, 0, 0]\n",
      "4.1886554\n",
      "action [ 1  1  1  1  1 19]\n",
      "action multi [1, 0, 0, 1, 1]\n",
      "4.1886554\n",
      "action [ 1  1  1  1  1 18]\n",
      "action multi [1, 0, 0, 1, 0]\n",
      "4.1886554\n",
      "action [ 1  1  1  1  1 17]\n",
      "action multi [1, 0, 0, 0, 1]\n",
      "4.1886554\n",
      "action [ 1  1  1  1  1 16]\n",
      "action multi [1, 0, 0, 0, 0]\n",
      "4.1886554\n",
      "action [ 1  1  1  1  1 14]\n",
      "action multi [0, 1, 1, 1, 0]\n",
      "4.1886554\n",
      "action [ 1  1  1  1  1 13]\n",
      "action multi [0, 1, 1, 0, 1]\n",
      "4.1886554\n",
      "action [ 1  1  1  1  1 12]\n",
      "action multi [0, 1, 1, 0, 0]\n",
      "4.1886554\n",
      "action [ 1  1  1  1  1 11]\n",
      "action multi [0, 1, 0, 1, 1]\n",
      "4.1886554\n",
      "action [ 1  1  1  1  1 10]\n",
      "action multi [0, 1, 0, 1, 0]\n",
      "4.1886554\n",
      "action [1 1 1 1 1 9]\n",
      "action multi [0, 1, 0, 0, 1]\n",
      "4.1886554\n",
      "action [1 1 1 1 1 8]\n",
      "action multi [0, 1, 0, 0, 0]\n",
      "4.1886554\n",
      "action [1 1 1 1 1 7]\n",
      "action multi [0, 0, 1, 1, 1]\n",
      "4.1886554\n",
      "action [1 1 1 1 1 6]\n",
      "action multi [0, 0, 1, 1, 0]\n",
      "4.1886554\n"
     ]
    }
   ],
   "source": [
    "from pymdp import utils\n",
    "for i, idx in enumerate(np.argsort(q_pi[0])[::-1]):\n",
    "    print(\"action\", agent.policies[idx, 0])\n",
    "    print(\"action multi\", utils.index_to_combination(agent.policies[idx, 0][-1].tolist(), agent.num_controls_multi))\n",
    "    print(G[0, idx])\n",
    "    if i == 20:\n",
    "        break"
   ]
  },
  {
   "cell_type": "code",
   "execution_count": null,
   "metadata": {},
   "outputs": [],
   "source": []
  }
 ],
 "metadata": {
  "kernelspec": {
   "display_name": "pymdp",
   "language": "python",
   "name": "python3"
  },
  "language_info": {
   "codemirror_mode": {
    "name": "ipython",
    "version": 3
   },
   "file_extension": ".py",
   "mimetype": "text/x-python",
   "name": "python",
   "nbconvert_exporter": "python",
   "pygments_lexer": "ipython3",
   "version": "3.11.7"
  }
 },
 "nbformat": 4,
 "nbformat_minor": 2
}
