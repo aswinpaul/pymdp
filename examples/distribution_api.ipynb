{
 "cells": [
  {
   "cell_type": "markdown",
   "metadata": {},
   "source": [
    "# Named Distributions API\n",
    "\n",
    "In this notebook we'll give some example uses of the named distribution api\n",
    "designed for easier querying and construction of complicated A and B tensors.\n",
    "\n",
    "The distribution objects allow for giving semantically sensible names to axes\n",
    "and indices within a tensor. These can be made interactively in code or an \n",
    "entire set of A and B tensors can be compiled from a structured model\n",
    "description.\n",
    "\n",
    "Below is an example of how to build a distribution from code for a model\n",
    "conisting of a single observation modality \"observation\" consiting of the\n",
    "possible observations {A, B, C, D}. A hidden state \"state\" consisting of the\n",
    "values {A, B, C, D} and controls \"control\" {up, down}."
   ]
  },
  {
   "cell_type": "code",
   "execution_count": 2,
   "metadata": {},
   "outputs": [
    {
     "name": "stdout",
     "output_type": "stream",
     "text": [
      "[Array([[[0., 0., 0., 1.]]], dtype=float32)]\n",
      "[[0. 1.]]\n",
      "[[1]]\n"
     ]
    }
   ],
   "source": [
    "import numpy as np\n",
    "import jax\n",
    "from jax import numpy as jnp\n",
    "\n",
    "from pymdp.jax import Distribution\n",
    "from pymdp.jax.agent import Agent\n",
    "\n",
    "np.set_printoptions(precision=2, suppress=True)\n",
    "\n",
    "\n",
    "def get_task_info():\n",
    "    policies = jnp.expand_dims(jnp.array([[0, 0, 0, 0], [1, 1, 1, 1]]), -1)\n",
    "    C = jnp.zeros((1, 4))\n",
    "    C = C.at[0, 3].set(1.0)\n",
    "    action = jnp.array([[1]])\n",
    "    qs = [jnp.zeros((1, 1, 4))]\n",
    "    qs[0] = qs[0].at[0, 0, 0].set(1.0)\n",
    "    observation = [jnp.array([[0]])]\n",
    "    return policies, C, action, qs, observation\n",
    "\n",
    "observations = [\"A\", \"B\", \"C\", \"D\"]\n",
    "states = [\"A\", \"B\", \"C\", \"D\"]\n",
    "controls = [\"up\", \"down\"]\n",
    "\n",
    "data = np.zeros((len(observations), len(states)))\n",
    "A = Distribution(data, {\"observations\": observations}, {\"states\": states})\n",
    "\n",
    "A[\"A\", \"A\"] = 1.0 \n",
    "A[\"B\", \"B\"] = 1.0\n",
    "A[\"C\", \"C\"] = 1.0\n",
    "A[\"D\", \"D\"] = 1.0\n",
    "\n",
    "\n",
    "## Transition\n",
    "# Similarily we can use the distributions to build a \n",
    "data = np.zeros((len(states), len(states), len(controls)))\n",
    "B = Distribution(data, {\"states\": states}, {\"states\": states, \"controls\": controls})\n",
    "\n",
    "B[\"B\", \"A\", \"up\"] = 1.0\n",
    "B[\"C\", \"B\", \"up\"] = 1.0\n",
    "B[\"D\", \"C\", \"up\"] = 1.0\n",
    "B[\"D\", \"D\", \"up\"] = 1.0\n",
    "\n",
    "B[\"A\", \"A\", \"down\"] = 1.0\n",
    "B[\"A\", \"B\", \"down\"] = 1.0\n",
    "B[\"B\", \"C\", \"down\"] = 1.0\n",
    "B[\"C\", \"D\", \"down\"] = 1.0\n",
    "\n",
    "policies = jnp.expand_dims(jnp.array([[0, 0, 0, 0], [1, 1, 1, 1]]), -1)\n",
    "\n",
    "C = jnp.zeros((1, 4))\n",
    "C = C.at[0, 0].set(1.0)\n",
    "\n",
    "agent = Agent([A], [B], [C], policies=policies)\n",
    "\n",
    "action = jnp.array([[0]])\n",
    "qs = [jnp.zeros((1, 1, 4))]\n",
    "qs[0] = qs[0].at[0, 0, 0].set(1.0)\n",
    "\n",
    "observation = [jnp.array([[0]])]\n",
    "prior, _ = agent.infer_empirical_prior(action, qs)\n",
    "\n",
    "agent = Agent([A], [B], [C], policies=policies)\n",
    "prior, _ = agent.infer_empirical_prior(action, qs)\n",
    "qs = agent.infer_states(observation, None, prior, None)\n",
    "\n",
    "q_pi, G = agent.infer_policies(qs)\n",
    "action = agent.sample_action(q_pi)"
   ]
  },
  {
   "cell_type": "markdown",
   "metadata": {},
   "source": [
    "### Using configs\n",
    "Alternatively you can use a model description to just generate the shape of the\n",
    "A's and the B's in one go. "
   ]
  },
  {
   "cell_type": "code",
   "execution_count": 13,
   "metadata": {},
   "outputs": [
    {
     "name": "stdout",
     "output_type": "stream",
     "text": [
      "(4, 4)\n"
     ]
    },
    {
     "ename": "IndexError",
     "evalue": "list index out of range",
     "output_type": "error",
     "traceback": [
      "\u001b[0;31m---------------------------------------------------------------------------\u001b[0m",
      "\u001b[0;31mIndexError\u001b[0m                                Traceback (most recent call last)",
      "Cell \u001b[0;32mIn[13], line 21\u001b[0m\n\u001b[1;32m     18\u001b[0m As[\u001b[38;5;241m0\u001b[39m][\u001b[38;5;124m\"\u001b[39m\u001b[38;5;124mC\u001b[39m\u001b[38;5;124m\"\u001b[39m, \u001b[38;5;124m\"\u001b[39m\u001b[38;5;124mC\u001b[39m\u001b[38;5;124m\"\u001b[39m] \u001b[38;5;241m=\u001b[39m \u001b[38;5;241m1.0\u001b[39m\n\u001b[1;32m     19\u001b[0m As[\u001b[38;5;241m0\u001b[39m][\u001b[38;5;124m\"\u001b[39m\u001b[38;5;124mD\u001b[39m\u001b[38;5;124m\"\u001b[39m, \u001b[38;5;124m\"\u001b[39m\u001b[38;5;124mD\u001b[39m\u001b[38;5;124m\"\u001b[39m] \u001b[38;5;241m=\u001b[39m \u001b[38;5;241m1.0\u001b[39m\n\u001b[0;32m---> 21\u001b[0m \u001b[43mBs\u001b[49m\u001b[43m[\u001b[49m\u001b[38;5;241;43m0\u001b[39;49m\u001b[43m]\u001b[49m\u001b[43m[\u001b[49m\u001b[38;5;124;43m\"\u001b[39;49m\u001b[38;5;124;43mB\u001b[39;49m\u001b[38;5;124;43m\"\u001b[39;49m\u001b[43m,\u001b[49m\u001b[43m \u001b[49m\u001b[38;5;124;43m\"\u001b[39;49m\u001b[38;5;124;43mA\u001b[39;49m\u001b[38;5;124;43m\"\u001b[39;49m\u001b[43m,\u001b[49m\u001b[43m \u001b[49m\u001b[38;5;124;43m\"\u001b[39;49m\u001b[38;5;124;43mup\u001b[39;49m\u001b[38;5;124;43m\"\u001b[39;49m\u001b[43m]\u001b[49m \u001b[38;5;241m=\u001b[39m \u001b[38;5;241m1.0\u001b[39m\n\u001b[1;32m     22\u001b[0m Bs[\u001b[38;5;241m0\u001b[39m][\u001b[38;5;124m\"\u001b[39m\u001b[38;5;124mC\u001b[39m\u001b[38;5;124m\"\u001b[39m, \u001b[38;5;124m\"\u001b[39m\u001b[38;5;124mB\u001b[39m\u001b[38;5;124m\"\u001b[39m, \u001b[38;5;124m\"\u001b[39m\u001b[38;5;124mup\u001b[39m\u001b[38;5;124m\"\u001b[39m] \u001b[38;5;241m=\u001b[39m \u001b[38;5;241m1.0\u001b[39m\n\u001b[1;32m     23\u001b[0m Bs[\u001b[38;5;241m0\u001b[39m][\u001b[38;5;124m\"\u001b[39m\u001b[38;5;124mD\u001b[39m\u001b[38;5;124m\"\u001b[39m, \u001b[38;5;124m\"\u001b[39m\u001b[38;5;124mC\u001b[39m\u001b[38;5;124m\"\u001b[39m, \u001b[38;5;124m\"\u001b[39m\u001b[38;5;124mup\u001b[39m\u001b[38;5;124m\"\u001b[39m] \u001b[38;5;241m=\u001b[39m \u001b[38;5;241m1.0\u001b[39m\n",
      "File \u001b[0;32m~/repos/pymdp/pymdp/jax/distribution.py:78\u001b[0m, in \u001b[0;36m__setitem__\u001b[0;34m(self, indices, value)\u001b[0m\n\u001b[1;32m     72\u001b[0m \u001b[38;5;28;01mdef\u001b[39;00m \u001b[38;5;21mcompile_model\u001b[39m(config):\n\u001b[1;32m     73\u001b[0m \u001b[38;5;250m    \u001b[39m\u001b[38;5;124;03m\"\"\"Compile a model from a config.\u001b[39;00m\n\u001b[1;32m     74\u001b[0m \n\u001b[1;32m     75\u001b[0m \u001b[38;5;124;03m    Takes a model description dictionary and builds the corresponding\u001b[39;00m\n\u001b[1;32m     76\u001b[0m \u001b[38;5;124;03m    Likelihood and Transition tensors. The tensors are filled with only\u001b[39;00m\n\u001b[1;32m     77\u001b[0m \u001b[38;5;124;03m    zeros and need to be filled in later by the caller of this function.\u001b[39;00m\n\u001b[0;32m---> 78\u001b[0m \u001b[38;5;124;03m    ---\u001b[39;00m\n\u001b[1;32m     79\u001b[0m \u001b[38;5;124;03m    The config  should consist of three top-level keys:\u001b[39;00m\n\u001b[1;32m     80\u001b[0m \u001b[38;5;124;03m        * observations\u001b[39;00m\n\u001b[1;32m     81\u001b[0m \u001b[38;5;124;03m        * controls\u001b[39;00m\n\u001b[1;32m     82\u001b[0m \u001b[38;5;124;03m        * states\u001b[39;00m\n\u001b[1;32m     83\u001b[0m \u001b[38;5;124;03m    where each entry consists of another dictionary with the name of the\u001b[39;00m\n\u001b[1;32m     84\u001b[0m \u001b[38;5;124;03m    modality as key and the modality description.\u001b[39;00m\n\u001b[1;32m     85\u001b[0m \n\u001b[1;32m     86\u001b[0m \u001b[38;5;124;03m    The modality description should consist out of either a `size` or `elements`\u001b[39;00m\n\u001b[1;32m     87\u001b[0m \u001b[38;5;124;03m    field indicating the named elements or the size of the integer array.\u001b[39;00m\n\u001b[1;32m     88\u001b[0m \u001b[38;5;124;03m    In the case of an observation the `depends_on` field needs to be present to\u001b[39;00m\n\u001b[1;32m     89\u001b[0m \u001b[38;5;124;03m    indicate what state factor links to this observation. In the case of states\u001b[39;00m\n\u001b[1;32m     90\u001b[0m \u001b[38;5;124;03m    the `depends_on_states` and `depends_on_control` fields are needed.\u001b[39;00m\n\u001b[1;32m     91\u001b[0m \u001b[38;5;124;03m    ---\u001b[39;00m\n\u001b[1;32m     92\u001b[0m \u001b[38;5;124;03m    example config:\u001b[39;00m\n\u001b[1;32m     93\u001b[0m \u001b[38;5;124;03m    { \"observations\": {\u001b[39;00m\n\u001b[1;32m     94\u001b[0m \u001b[38;5;124;03m        \"observation_1\": {\"size\": 10, \"depends_on\": [\"factor_1\"]},\u001b[39;00m\n\u001b[1;32m     95\u001b[0m \u001b[38;5;124;03m        \"observation_2\": {\u001b[39;00m\n\u001b[1;32m     96\u001b[0m \u001b[38;5;124;03m            \"elements\": [\"A\", \"B\"],\u001b[39;00m\n\u001b[1;32m     97\u001b[0m \u001b[38;5;124;03m            \"depends_on\": [\"factor_1\"],\u001b[39;00m\n\u001b[1;32m     98\u001b[0m \u001b[38;5;124;03m        },\u001b[39;00m\n\u001b[1;32m     99\u001b[0m \u001b[38;5;124;03m    },\u001b[39;00m\n\u001b[1;32m    100\u001b[0m \u001b[38;5;124;03m    \"controls\": {\u001b[39;00m\n\u001b[1;32m    101\u001b[0m \u001b[38;5;124;03m            \"control_1\": {\"size\": 2},\u001b[39;00m\n\u001b[1;32m    102\u001b[0m \u001b[38;5;124;03m            \"control_2\": {\"elements\": [\"X\", \"Y\"]},\u001b[39;00m\n\u001b[1;32m    103\u001b[0m \u001b[38;5;124;03m    },\u001b[39;00m\n\u001b[1;32m    104\u001b[0m \u001b[38;5;124;03m    \"states\": {\u001b[39;00m\n\u001b[1;32m    105\u001b[0m \u001b[38;5;124;03m        \"factor_1\": {\u001b[39;00m\n\u001b[1;32m    106\u001b[0m \u001b[38;5;124;03m            \"elements\": [\"II\", \"JJ\", \"KK\"],\u001b[39;00m\n\u001b[1;32m    107\u001b[0m \u001b[38;5;124;03m            \"depends_on_states\": [\"factor_1\", \"factor_2\"],\u001b[39;00m\n\u001b[1;32m    108\u001b[0m \u001b[38;5;124;03m            \"depends_on_control\": [\"control_1\", \"control_2\"],\u001b[39;00m\n\u001b[1;32m    109\u001b[0m \u001b[38;5;124;03m        },\u001b[39;00m\n\u001b[1;32m    110\u001b[0m \u001b[38;5;124;03m        \"factor_2\": {\u001b[39;00m\n\u001b[1;32m    111\u001b[0m \u001b[38;5;124;03m            \"elements\": [\"foo\", \"bar\"],\u001b[39;00m\n\u001b[1;32m    112\u001b[0m \u001b[38;5;124;03m            \"depends_on_states\": [\"factor_2\"],\u001b[39;00m\n\u001b[1;32m    113\u001b[0m \u001b[38;5;124;03m            \"depends_on_control\": [\"control_2\"],\u001b[39;00m\n\u001b[1;32m    114\u001b[0m \u001b[38;5;124;03m        },\u001b[39;00m\n\u001b[1;32m    115\u001b[0m \u001b[38;5;124;03m    }}\u001b[39;00m\n\u001b[1;32m    116\u001b[0m \u001b[38;5;124;03m    \"\"\"\u001b[39;00m\n\u001b[1;32m    117\u001b[0m     \u001b[38;5;66;03m# these are needed to get the ordering of the dimensions correct for pymdp\u001b[39;00m\n\u001b[1;32m    118\u001b[0m     state_dependencies \u001b[38;5;241m=\u001b[39m \u001b[38;5;28mdict\u001b[39m()\n",
      "File \u001b[0;32m~/repos/pymdp/pymdp/jax/distribution.py:79\u001b[0m, in \u001b[0;36m<listcomp>\u001b[0;34m(.0)\u001b[0m\n\u001b[1;32m     72\u001b[0m \u001b[38;5;28;01mdef\u001b[39;00m \u001b[38;5;21mcompile_model\u001b[39m(config):\n\u001b[1;32m     73\u001b[0m \u001b[38;5;250m    \u001b[39m\u001b[38;5;124;03m\"\"\"Compile a model from a config.\u001b[39;00m\n\u001b[1;32m     74\u001b[0m \n\u001b[1;32m     75\u001b[0m \u001b[38;5;124;03m    Takes a model description dictionary and builds the corresponding\u001b[39;00m\n\u001b[1;32m     76\u001b[0m \u001b[38;5;124;03m    Likelihood and Transition tensors. The tensors are filled with only\u001b[39;00m\n\u001b[1;32m     77\u001b[0m \u001b[38;5;124;03m    zeros and need to be filled in later by the caller of this function.\u001b[39;00m\n\u001b[1;32m     78\u001b[0m \u001b[38;5;124;03m    ---\u001b[39;00m\n\u001b[0;32m---> 79\u001b[0m \u001b[38;5;124;03m    The config  should consist of three top-level keys:\u001b[39;00m\n\u001b[1;32m     80\u001b[0m \u001b[38;5;124;03m        * observations\u001b[39;00m\n\u001b[1;32m     81\u001b[0m \u001b[38;5;124;03m        * controls\u001b[39;00m\n\u001b[1;32m     82\u001b[0m \u001b[38;5;124;03m        * states\u001b[39;00m\n\u001b[1;32m     83\u001b[0m \u001b[38;5;124;03m    where each entry consists of another dictionary with the name of the\u001b[39;00m\n\u001b[1;32m     84\u001b[0m \u001b[38;5;124;03m    modality as key and the modality description.\u001b[39;00m\n\u001b[1;32m     85\u001b[0m \n\u001b[1;32m     86\u001b[0m \u001b[38;5;124;03m    The modality description should consist out of either a `size` or `elements`\u001b[39;00m\n\u001b[1;32m     87\u001b[0m \u001b[38;5;124;03m    field indicating the named elements or the size of the integer array.\u001b[39;00m\n\u001b[1;32m     88\u001b[0m \u001b[38;5;124;03m    In the case of an observation the `depends_on` field needs to be present to\u001b[39;00m\n\u001b[1;32m     89\u001b[0m \u001b[38;5;124;03m    indicate what state factor links to this observation. In the case of states\u001b[39;00m\n\u001b[1;32m     90\u001b[0m \u001b[38;5;124;03m    the `depends_on_states` and `depends_on_control` fields are needed.\u001b[39;00m\n\u001b[1;32m     91\u001b[0m \u001b[38;5;124;03m    ---\u001b[39;00m\n\u001b[1;32m     92\u001b[0m \u001b[38;5;124;03m    example config:\u001b[39;00m\n\u001b[1;32m     93\u001b[0m \u001b[38;5;124;03m    { \"observations\": {\u001b[39;00m\n\u001b[1;32m     94\u001b[0m \u001b[38;5;124;03m        \"observation_1\": {\"size\": 10, \"depends_on\": [\"factor_1\"]},\u001b[39;00m\n\u001b[1;32m     95\u001b[0m \u001b[38;5;124;03m        \"observation_2\": {\u001b[39;00m\n\u001b[1;32m     96\u001b[0m \u001b[38;5;124;03m            \"elements\": [\"A\", \"B\"],\u001b[39;00m\n\u001b[1;32m     97\u001b[0m \u001b[38;5;124;03m            \"depends_on\": [\"factor_1\"],\u001b[39;00m\n\u001b[1;32m     98\u001b[0m \u001b[38;5;124;03m        },\u001b[39;00m\n\u001b[1;32m     99\u001b[0m \u001b[38;5;124;03m    },\u001b[39;00m\n\u001b[1;32m    100\u001b[0m \u001b[38;5;124;03m    \"controls\": {\u001b[39;00m\n\u001b[1;32m    101\u001b[0m \u001b[38;5;124;03m            \"control_1\": {\"size\": 2},\u001b[39;00m\n\u001b[1;32m    102\u001b[0m \u001b[38;5;124;03m            \"control_2\": {\"elements\": [\"X\", \"Y\"]},\u001b[39;00m\n\u001b[1;32m    103\u001b[0m \u001b[38;5;124;03m    },\u001b[39;00m\n\u001b[1;32m    104\u001b[0m \u001b[38;5;124;03m    \"states\": {\u001b[39;00m\n\u001b[1;32m    105\u001b[0m \u001b[38;5;124;03m        \"factor_1\": {\u001b[39;00m\n\u001b[1;32m    106\u001b[0m \u001b[38;5;124;03m            \"elements\": [\"II\", \"JJ\", \"KK\"],\u001b[39;00m\n\u001b[1;32m    107\u001b[0m \u001b[38;5;124;03m            \"depends_on_states\": [\"factor_1\", \"factor_2\"],\u001b[39;00m\n\u001b[1;32m    108\u001b[0m \u001b[38;5;124;03m            \"depends_on_control\": [\"control_1\", \"control_2\"],\u001b[39;00m\n\u001b[1;32m    109\u001b[0m \u001b[38;5;124;03m        },\u001b[39;00m\n\u001b[1;32m    110\u001b[0m \u001b[38;5;124;03m        \"factor_2\": {\u001b[39;00m\n\u001b[1;32m    111\u001b[0m \u001b[38;5;124;03m            \"elements\": [\"foo\", \"bar\"],\u001b[39;00m\n\u001b[1;32m    112\u001b[0m \u001b[38;5;124;03m            \"depends_on_states\": [\"factor_2\"],\u001b[39;00m\n\u001b[1;32m    113\u001b[0m \u001b[38;5;124;03m            \"depends_on_control\": [\"control_2\"],\u001b[39;00m\n\u001b[1;32m    114\u001b[0m \u001b[38;5;124;03m        },\u001b[39;00m\n\u001b[1;32m    115\u001b[0m \u001b[38;5;124;03m    }}\u001b[39;00m\n\u001b[1;32m    116\u001b[0m \u001b[38;5;124;03m    \"\"\"\u001b[39;00m\n\u001b[1;32m    117\u001b[0m     \u001b[38;5;66;03m# these are needed to get the ordering of the dimensions correct for pymdp\u001b[39;00m\n\u001b[1;32m    118\u001b[0m     state_dependencies \u001b[38;5;241m=\u001b[39m \u001b[38;5;28mdict\u001b[39m()\n",
      "File \u001b[0;32m~/repos/pymdp/pymdp/jax/distribution.py:63\u001b[0m, in \u001b[0;36m_get_index_from_axis\u001b[0;34m(self, axis, element)\u001b[0m\n\u001b[1;32m     61\u001b[0m     indices \u001b[38;5;241m=\u001b[39m (indices,)\n\u001b[1;32m     62\u001b[0m index_list \u001b[38;5;241m=\u001b[39m [\u001b[38;5;28mself\u001b[39m\u001b[38;5;241m.\u001b[39m_get_index_from_axis(i, idx) \u001b[38;5;28;01mfor\u001b[39;00m i, idx \u001b[38;5;129;01min\u001b[39;00m \u001b[38;5;28menumerate\u001b[39m(indices)]\n\u001b[0;32m---> 63\u001b[0m \u001b[38;5;28;01mreturn\u001b[39;00m \u001b[38;5;28mself\u001b[39m\u001b[38;5;241m.\u001b[39mdata[\u001b[38;5;28mtuple\u001b[39m(index_list)]\n",
      "\u001b[0;31mIndexError\u001b[0m: list index out of range"
     ]
    }
   ],
   "source": [
    "from pymdp.jax import distribution\n",
    "\n",
    "model = {\n",
    "    \"observations\": {\n",
    "        \"o1\": {\"elements\": [\"A\", \"B\", \"C\", \"D\"], \"depends_on\": [\"s1\"]},\n",
    "    },\n",
    "    \"controls\": {\"c1\": {\"elements\": [\"up\", \"down\"]}},\n",
    "    \"states\": {\n",
    "        \"s1\": {\"elements\": [\"A\", \"B\", \"C\", \"D\"], \"depends_on_states\": [\"s1\"], \"depends_on_control\": [\"c1\"]},\n",
    "    },\n",
    "}\n",
    "\n",
    "As, Bs = distribution.compile_model(model)\n",
    "print(Bs[0].data.shape)\n",
    "\n",
    "As[0][\"A\", \"A\"] = 1.0\n",
    "As[0][\"B\", \"B\"] = 1.0\n",
    "As[0][\"C\", \"C\"] = 1.0\n",
    "As[0][\"D\", \"D\"] = 1.0\n",
    "\n",
    "Bs[0][\"B\", \"A\", \"up\"] = 1.0\n",
    "Bs[0][\"C\", \"B\", \"up\"] = 1.0\n",
    "Bs[0][\"D\", \"C\", \"up\"] = 1.0\n",
    "Bs[0][\"D\", \"D\", \"up\"] = 1.0\n",
    "\n",
    "Bs[0][\"A\", \"A\", \"down\"] = 1.0\n",
    "Bs[0][\"A\", \"B\", \"down\"] = 1.0\n",
    "Bs[0][\"B\", \"C\", \"down\"] = 1.0\n",
    "Bs[0][\"C\", \"D\", \"down\"] = 1.0\n",
    "\n",
    "policies, Cs, action, qs, observation = get_task_info()\n",
    "\n",
    "agent = Agent(As, Bs, Cs, policies=policies)\n",
    "prior, _ = agent.infer_empirical_prior(action, qs)\n",
    "qs = agent.infer_states(observation, None, prior, None)\n",
    "\n",
    "q_pi, G = agent.infer_policies(qs)\n",
    "action = agent.sample_action(q_pi)\n",
    "print(action)"
   ]
  }
 ],
 "metadata": {
  "kernelspec": {
   "display_name": "pymdp",
   "language": "python",
   "name": "python3"
  },
  "language_info": {
   "codemirror_mode": {
    "name": "ipython",
    "version": 3
   },
   "file_extension": ".py",
   "mimetype": "text/x-python",
   "name": "python",
   "nbconvert_exporter": "python",
   "pygments_lexer": "ipython3",
   "version": "3.11.9"
  }
 },
 "nbformat": 4,
 "nbformat_minor": 2
}
